{
 "cells": [
  {
   "cell_type": "markdown",
   "metadata": {},
   "source": [
    "# Navigation\n",
    "\n",
    "---\n",
    "\n",
    "Train an agent to navigate (and collect bananas!) in a large, square world using the Unity ML-Agents environment\n",
    "\n",
    "### 1. Start the Environment\n",
    "\n",
    "Begin by importing some necessary packages.  If the code cell below returns an error, please revisit the project instructions to double-check that you've installed [Unity ML-Agents](https://github.com/Unity-Technologies/ml-agents/blob/master/docs/Installation.md) and [NumPy](http://www.numpy.org/)."
   ]
  },
  {
   "cell_type": "code",
   "execution_count": 1,
   "metadata": {},
   "outputs": [],
   "source": [
    "from unityagents import UnityEnvironment\n",
    "import numpy as np"
   ]
  },
  {
   "cell_type": "markdown",
   "metadata": {},
   "source": [
    "Next, start the environment!  **_Before running the code cell below_**, change the `file_name` parameter to match the location of the Unity environment that you downloaded.\n",
    "\n",
    "- **Mac**: `\"path/to/Banana.app\"`\n",
    "- **Windows** (x86): `\"path/to/Banana_Windows_x86/Banana.exe\"`\n",
    "- **Windows** (x86_64): `\"path/to/Banana_Windows_x86_64/Banana.exe\"`\n",
    "- **Linux** (x86): `\"path/to/Banana_Linux/Banana.x86\"`\n",
    "- **Linux** (x86_64): `\"path/to/Banana_Linux/Banana.x86_64\"`\n",
    "- **Linux** (x86, headless): `\"path/to/Banana_Linux_NoVis/Banana.x86\"`\n",
    "- **Linux** (x86_64, headless): `\"path/to/Banana_Linux_NoVis/Banana.x86_64\"`\n",
    "\n",
    "For instance, if you are using a Mac, then you downloaded `Banana.app`.  If this file is in the same folder as the notebook, then the line below should appear as follows:\n",
    "```\n",
    "env = UnityEnvironment(file_name=\"Banana.app\")\n",
    "```"
   ]
  },
  {
   "cell_type": "code",
   "execution_count": 2,
   "metadata": {},
   "outputs": [
    {
     "name": "stderr",
     "output_type": "stream",
     "text": [
      "INFO:unityagents:\n",
      "'Academy' started successfully!\n",
      "Unity Academy name: Academy\n",
      "        Number of Brains: 1\n",
      "        Number of External Brains : 1\n",
      "        Lesson number : 0\n",
      "        Reset Parameters :\n",
      "\t\t\n",
      "Unity brain name: BananaBrain\n",
      "        Number of Visual Observations (per agent): 0\n",
      "        Vector Observation space type: continuous\n",
      "        Vector Observation space size (per agent): 37\n",
      "        Number of stacked Vector Observation: 1\n",
      "        Vector Action space type: discrete\n",
      "        Vector Action space size (per agent): 4\n",
      "        Vector Action descriptions: , , , \n"
     ]
    }
   ],
   "source": [
    "env = UnityEnvironment(file_name = \"Banana_Windows_x86_64/Banana.exe\")"
   ]
  },
  {
   "cell_type": "markdown",
   "metadata": {},
   "source": [
    "Environments contain **_brains_** which are responsible for deciding the actions of their associated agents. Here, we check for the first brain available, and set it as the default brain we'll be controlling from Python."
   ]
  },
  {
   "cell_type": "code",
   "execution_count": 6,
   "metadata": {},
   "outputs": [],
   "source": [
    "# get the default brain\n",
    "brain_name = env.brain_names[0]\n",
    "brain = env.brains[brain_name]"
   ]
  },
  {
   "cell_type": "markdown",
   "metadata": {},
   "source": [
    "### 2. Examine the State and Action Spaces\n",
    "\n",
    "The simulation contains a single agent that navigates a large environment.  At each time step, it has four actions at its disposal:\n",
    "- `0` - walk forward \n",
    "- `1` - walk backward\n",
    "- `2` - turn left\n",
    "- `3` - turn right\n",
    "\n",
    "The state space has `37` dimensions and contains the agent's velocity, along with ray-based perception of objects around agent's forward direction.  A reward of `+1` is provided for collecting a yellow banana, and a reward of `-1` is provided for collecting a blue banana. \n",
    "\n",
    "Run the code cell below to print some information about the environment."
   ]
  },
  {
   "cell_type": "code",
   "execution_count": 7,
   "metadata": {},
   "outputs": [
    {
     "name": "stdout",
     "output_type": "stream",
     "text": [
      "Number of agents: 1\n",
      "Number of actions: 4\n",
      "\n",
      "States look like: [ 1.          0.          0.          0.          0.84408134  0.          0.\n",
      "  1.          0.          0.0748472   0.          1.          0.          0.\n",
      "  0.25755     1.          0.          0.          0.          0.74177343\n",
      "  0.          1.          0.          0.          0.25854847  0.          0.\n",
      "  1.          0.          0.09355672  0.          1.          0.          0.\n",
      "  0.31969345  0.          0.        ]\n",
      "States have length: 37\n"
     ]
    }
   ],
   "source": [
    "# reset the environment\n",
    "env_info = env.reset(train_mode = True)[brain_name]\n",
    "\n",
    "# number of agents in the environment\n",
    "print('Number of agents:', len(env_info.agents))\n",
    "\n",
    "# number of actions\n",
    "action_size = brain.vector_action_space_size\n",
    "print('Number of actions:', action_size)\n",
    "\n",
    "# examine the state space \n",
    "state = env_info.vector_observations[0]\n",
    "print('\\nStates look like:', state)\n",
    "state_size = len(state)\n",
    "print('States have length:', state_size)"
   ]
  },
  {
   "cell_type": "markdown",
   "metadata": {},
   "source": [
    "### 3. Take Random Actions in the Environment\n",
    "##### (Uncomment the code to try)\n",
    "\n",
    "Next, use the Python API to control the agent and receive feedback from the environment.\n",
    "\n",
    "Once this cell is executed, we'll watch the agent's performance if it selects an action (uniformly) at random with each time step.  A window should pop up that allows you to observe the agent as it moves through the environment."
   ]
  },
  {
   "cell_type": "code",
   "execution_count": 8,
   "metadata": {},
   "outputs": [],
   "source": [
    "#env_info = env.reset(train_mode = False)[brain_name] # reset the environment\n",
    "#state = env_info.vector_observations[0]              # get the current state\n",
    "#score = 0                                            # initialize the score\n",
    "#while True:\n",
    "#    action = np.random.randint(action_size)          # select an action\n",
    "#    env_info = env.step(action)[brain_name]          # send the action to the environment\n",
    "#    next_state = env_info.vector_observations[0]     # get the next state\n",
    "#    reward = env_info.rewards[0]                     # get the reward\n",
    "#    done = env_info.local_done[0]                    # see if episode has finished\n",
    "#    score += reward                                  # update the score\n",
    "#    state = next_state                               # roll over the state to next time step\n",
    "#    if done:                                         # exit loop if episode finished\n",
    "#        break\n",
    "    \n",
    "#print(\"Score: {}\".format(score))"
   ]
  },
  {
   "cell_type": "markdown",
   "metadata": {},
   "source": [
    "When finished, you can close the environment."
   ]
  },
  {
   "cell_type": "code",
   "execution_count": 9,
   "metadata": {},
   "outputs": [],
   "source": [
    "# env.close() # avoid closing to further train the agent on environment with DQN"
   ]
  },
  {
   "cell_type": "markdown",
   "metadata": {},
   "source": [
    "### 4. Train the Agent with DQN\n",
    "\n",
    "This part deals with making the agent to be able to use its experience to gradually choose better actions when interacting with the environment!\n",
    "\n",
    "Unlike the previous run, when training the environment, `train_mode = True` should be set: \n",
    "```python\n",
    "env_info = env.reset(train_mode=True)[brain_name]\n",
    "```"
   ]
  },
  {
   "cell_type": "markdown",
   "metadata": {},
   "source": [
    "#### 4.1 Import some necessary packages"
   ]
  },
  {
   "cell_type": "code",
   "execution_count": 10,
   "metadata": {},
   "outputs": [],
   "source": [
    "#Some packages are already imported\n",
    "from agent import Agent\n",
    "from collections import deque\n",
    "import torch\n",
    "\n",
    "import matplotlib.pyplot as plt\n",
    "%matplotlib inline"
   ]
  },
  {
   "cell_type": "markdown",
   "metadata": {},
   "source": [
    "#### 4.2 Define a DQN model\n",
    "\n",
    "Run the code cell below to train the agent from scratch or skip to the next step **Instantiate the Agent** & then **4.3 Watch a Smart Agent!**, to load the saved weights from a pre-trained agent & watch the agent.\n",
    "\n",
    "Alternatively, load the model along with the saved weights into a different solution file such that one doesn't need to build a model from scratch. "
   ]
  },
  {
   "cell_type": "code",
   "execution_count": 11,
   "metadata": {},
   "outputs": [],
   "source": [
    "def dqn(epochs = 1800, max_t = 1000, eps_start = 1.0, eps_end = 0.01, eps_decay = 0.995):\n",
    "    \"\"\" Implement Deep Q-Learning with helper functions from the agent\n",
    "    \n",
    "    Params:\n",
    "        epochs (int)      ---  maximum number of training episodes\n",
    "        max_t (int)       ---  maximum number of timesteps per episode\n",
    "        eps_start (float) ---  starting value of epsilon, for epsilon-greedy action selection\n",
    "        eps_end (float)   ---  minimum value of epsilon\n",
    "        eps_decay (float) ---  multiplicative factor (per episode)\n",
    "    \"\"\"\n",
    "    \n",
    "    flag = 0\n",
    "    scores = []                          # list containing scores from each episode\n",
    "    scores_window = deque(maxlen = 100)  # last 100 scores\n",
    "    eps = eps_start                      # initialize epsilon\n",
    "    for i_episode in range(1, epochs + 1):\n",
    "        env_info = env.reset(train_mode = True)[brain_name] # reset the environment\n",
    "        state = env_info.vector_observations[0]             # get the current state\n",
    "        score = 0 \n",
    "        \n",
    "        for t in range(max_t):\n",
    "            action = agent.act(state, eps)\n",
    "            env_info = env.step(action)[brain_name]             # send the action to the environment\n",
    "            next_state = env_info.vector_observations[0]        # get the next state\n",
    "            reward = env_info.rewards[0]                        # get the reward\n",
    "            done = env_info.local_done[0]                       # see if episode has finished\n",
    "            \n",
    "            agent.step(state, action, reward, next_state, done) # append to buffer\n",
    "            \n",
    "            score += reward                                     # update the score\n",
    "            state = next_state                                  # roll over the state to next time step \n",
    "            \n",
    "            if done:\n",
    "                break \n",
    "        \n",
    "        scores_window.append(score)       # save most recent score\n",
    "        scores.append(score)              \n",
    "        eps = max(eps_end, eps_decay*eps) # decrease epsilon\n",
    "        \n",
    "        print('\\rEpisode {}\\tAverage Score: {:.2f}'.format(i_episode, np.mean(scores_window)), end=\"\")\n",
    "        if i_episode % 100 == 0:\n",
    "            print('\\rEpisode {}\\tAverage Score: {:.2f}'.format(i_episode, np.mean(scores_window)))\n",
    "        if(flag == 0):\n",
    "            if(np.mean(scores_window) >= 13.0 ):\n",
    "                flag += 1\n",
    "                print('\\nEnvironment solved in {:d} episodes!\\tAverage Score: {:.2f}'.format(i_episode-100, np.mean(scores_window)))\n",
    "                checkpoint = { 'state_size': 37,\n",
    "                    'action_size': 4,\n",
    "                    'hidden_layers': [each.out_features for each in agent.qnetwork_local.hidden_layers],\n",
    "                    'state_dict': agent.qnetwork_local.state_dict() }\n",
    "                torch.save(checkpoint, 'model.pt')\n",
    "            # break\n",
    "            \n",
    "    return scores"
   ]
  },
  {
   "cell_type": "markdown",
   "metadata": {},
   "source": [
    "#### Instantiate the agent "
   ]
  },
  {
   "cell_type": "code",
   "execution_count": 12,
   "metadata": {},
   "outputs": [],
   "source": [
    "agent = Agent(state_size = 37, action_size = 4, seed = 42)"
   ]
  },
  {
   "cell_type": "markdown",
   "metadata": {},
   "source": [
    "#### Train the agent"
   ]
  },
  {
   "cell_type": "code",
   "execution_count": 13,
   "metadata": {},
   "outputs": [
    {
     "name": "stdout",
     "output_type": "stream",
     "text": [
      "Episode 100\tAverage Score: 1.01\n",
      "Episode 200\tAverage Score: 4.26\n",
      "Episode 300\tAverage Score: 7.58\n",
      "Episode 400\tAverage Score: 10.88\n",
      "Episode 477\tAverage Score: 13.01\n",
      "Environment solved in 377 episodes!\tAverage Score: 13.01\n",
      "Episode 500\tAverage Score: 13.10\n",
      "Episode 600\tAverage Score: 13.97\n",
      "Episode 700\tAverage Score: 14.68\n",
      "Episode 800\tAverage Score: 15.31\n",
      "Episode 900\tAverage Score: 15.42\n",
      "Episode 1000\tAverage Score: 16.68\n",
      "Episode 1100\tAverage Score: 15.13\n",
      "Episode 1200\tAverage Score: 15.58\n",
      "Episode 1300\tAverage Score: 16.28\n",
      "Episode 1400\tAverage Score: 16.22\n",
      "Episode 1500\tAverage Score: 15.52\n",
      "Episode 1600\tAverage Score: 15.88\n",
      "Episode 1700\tAverage Score: 16.05\n",
      "Episode 1800\tAverage Score: 15.61\n"
     ]
    },
    {
     "data": {
      "image/png": "[encoded data removed]",
      "text/plain": [
       "<matplotlib.figure.Figure at 0x7f6448d57588>"
      ]
     },
     "metadata": {
      "needs_background": "light"
     },
     "output_type": "display_data"
    }
   ],
   "source": [
    "scores = dqn()\n",
    "\n",
    "# plot the scores\n",
    "fig = plt.figure()\n",
    "ax = fig.add_subplot(111)\n",
    "plt.plot(np.arange(len(scores)), scores)\n",
    "plt.ylabel('Score')\n",
    "plt.xlabel('Episode #')\n",
    "plt.show()"
   ]
  },
  {
   "cell_type": "markdown",
   "metadata": {},
   "source": [
    "#### 4.3 Watch a Smart Agent\n",
    "\n",
    "Load the trained weights from file to watch a smart agent!"
   ]
  },
  {
   "cell_type": "code",
   "execution_count": 14,
   "metadata": {},
   "outputs": [
    {
     "name": "stdout",
     "output_type": "stream",
     "text": [
      "Test scores: [14.0]\n"
     ]
    }
   ],
   "source": [
    "# load the weights from file\n",
    "checkpoint = torch.load('model.pt')\n",
    "agent.qnetwork_local.load_state_dict(checkpoint['state_dict'])\n",
    "\n",
    "# display n (1, here) episodes with trained agent\n",
    "test_scores = []\n",
    "for i in range(1):\n",
    "    env_info = env.reset(train_mode = False)[brain_name] # reset the environment\n",
    "    state = env_info.vector_observations[0]              # get the current state\n",
    "    score = 0\n",
    "    \n",
    "    while True:\n",
    "        action = agent.act(state)                        # select an action\n",
    "        env_info = env.step(action)[brain_name]          # send the action to the environment\n",
    "        next_state = env_info.vector_observations[0]     # get the next state\n",
    "        reward = env_info.rewards[0]                     # get the reward\n",
    "        done = env_info.local_done[0]                    # see if episode has finished\n",
    "        score += reward                                  # update the score\n",
    "        state = next_state                               # roll over the state to next time step\n",
    "        \n",
    "        if done:\n",
    "            break\n",
    "            \n",
    "    test_scores.append(score)            \n",
    "\n",
    "env.close()\n",
    "\n",
    "print(\"Test scores: {}\".format(test_scores))"
   ]
  },
  {
   "cell_type": "code",
   "execution_count": null,
   "metadata": {},
   "outputs": [],
   "source": []
  }
 ],
 "metadata": {
  "kernelspec": {
   "display_name": "drlnd",
   "language": "python",
   "name": "drlnd"
  },
  "language_info": {
   "codemirror_mode": {
    "name": "ipython",
    "version": 3
   },
   "file_extension": ".py",
   "mimetype": "text/x-python",
   "name": "python",
   "nbconvert_exporter": "python",
   "pygments_lexer": "ipython3",
   "version": "3.6.10"
  }
 },
 "nbformat": 4,
 "nbformat_minor": 2
}
